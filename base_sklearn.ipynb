{
 "cells": [
  {
   "cell_type": "markdown",
   "id": "a5ad0f85",
   "metadata": {},
   "source": [
    "介绍基础的机器学习概念与实例，作为入门"
   ]
  }
 ],
 "metadata": {
  "language_info": {
   "name": "python"
  }
 },
 "nbformat": 4,
 "nbformat_minor": 5
}
