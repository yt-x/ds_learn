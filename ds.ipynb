{
 "cells": [
  {
   "cell_type": "code",
   "execution_count": 4,
   "id": "0425ccdd",
   "metadata": {},
   "outputs": [],
   "source": [
    "import pandas as pd\n",
    "import numpy as np"
   ]
  },
  {
   "cell_type": "markdown",
   "id": "d0d5fbfe",
   "metadata": {},
   "source": [
    "# data 输入"
   ]
  },
  {
   "cell_type": "markdown",
   "id": "7935b52d",
   "metadata": {},
   "source": [
    "在办公流中, pandas 支持使用 read_csv() 读取 csv 文件，使用 pandas.read_excel() 读取 Excel 文件\n",
    "\n",
    "如果涉及到数据库，pandas 也支持使用 read_sql() 读取数据库中的数据"
   ]
  },
  {
   "cell_type": "markdown",
   "id": "5b2445fa",
   "metadata": {},
   "source": [
    "在使用 `pandas.read_excel()` 读取 Excel 文件时，不同版本的 Excel 文件（`.xls` 和 `.xlsx`）需要不同的引擎（`xlrd` 或 `openpyxl`），而 `xlrd` 从版本 2.0 开始不再支持 `.xlsx` 文件，只支持 `.xls` 文件。\n",
    "\n",
    "`openpyxl` 支持 `.xlsx`, `.xlsm`, `.xlsm` (宏), `.xlsb` (二进制) 文件格式\n",
    "\n",
    "\n",
    "\n",
    "为了构建一个健壮、自动适配引擎的读取接口，可以根据文件扩展名自动选择合适的引擎，并处理可能的依赖缺失问题。"
   ]
  },
  {
   "cell_type": "code",
   "execution_count": 5,
   "id": "16a57892",
   "metadata": {},
   "outputs": [],
   "source": [
    "from pathlib import Path\n",
    "\n",
    "def read_excel_robust(file_path, **kwargs):\n",
    "    \"\"\"\n",
    "    健壮地读取 Excel 文件（.xls 或 .xlsx），自动选择引擎。\n",
    "    \n",
    "    参数:\n",
    "        file_path: str 或 Path，Excel 文件路径\n",
    "        **kwargs: 传递给 pd.read_excel() 的其他参数（如 sheet_name, header 等）\n",
    "    \n",
    "    返回:\n",
    "        DataFrame 或 Dict of DataFrames（如果多表）\n",
    "    \n",
    "    异常:\n",
    "        FileNotFoundError: 文件不存在\n",
    "        ValueError: 不支持的文件格式\n",
    "        ImportError: 缺少必要的引擎\n",
    "        Exception: 其他读取错误\n",
    "    \"\"\"\n",
    "    # 转换为 Path 对象，方便处理\n",
    "    file_path = Path(file_path)\n",
    "    \n",
    "    # 检查文件是否存在\n",
    "    if not file_path.exists():\n",
    "        raise FileNotFoundError(f\"文件未找到: {file_path}\")\n",
    "    \n",
    "    # 获取文件扩展名（转小写）\n",
    "    suffix = file_path.suffix.lower()\n",
    "    \n",
    "    # 根据扩展名选择引擎\n",
    "    if suffix == '.xls':\n",
    "        engine = 'xlrd'\n",
    "        # xlrd 从 2.0 开始不支持 .xlsx，但支持 .xls\n",
    "        \n",
    "    elif suffix in ['.xlsx', '.xlsm', '.xlsb']:\n",
    "        engine = 'openpyxl'  # openpyxl 支持 .xlsx, .xlsm, .xlsm (宏), .xlsb (二进制)\n",
    "    else:\n",
    "        raise ValueError(f\"不支持的文件格式: {suffix}。仅支持 .xls, .xlsx, .xlsm, .xlsb\")\n",
    "    \n",
    "    # 检查是否安装了所需的引擎\n",
    "    try:\n",
    "        if engine == 'xlrd':\n",
    "            import xlrd\n",
    "            # 检查 xlrd 版本是否支持 .xls\n",
    "            if not hasattr(xlrd, 'open_workbook'):\n",
    "                raise ImportError(\"xlrd 版本过旧或不兼容\")\n",
    "        elif engine == 'openpyxl':\n",
    "            import openpyxl\n",
    "    except ImportError as e:\n",
    "        raise ImportError(f\"读取 {suffix} 文件需要安装 '{engine}'。请运行: pip install {engine}\") from e\n",
    "    \n",
    "    try:\n",
    "        df = pd.read_excel(file_path, engine=engine, **kwargs)\n",
    "        return df\n",
    "    except Exception as e:\n",
    "        raise Exception(f\"读取 Excel 文件时出错: {e}\") from e"
   ]
  },
  {
   "cell_type": "markdown",
   "id": "408030ae",
   "metadata": {},
   "source": [
    "# 数据分析"
   ]
  },
  {
   "cell_type": "markdown",
   "id": "2aec770c",
   "metadata": {},
   "source": [
    "### 重复项的检测与处理"
   ]
  },
  {
   "cell_type": "markdown",
   "id": "f5861403",
   "metadata": {},
   "source": [
    "检测重复值使用 `duplicated` 就可以实现，其语法一般如下\n",
    "\n",
    "```python\n",
    "df.duplicated(subset=None, keep='first')\n",
    "```\n",
    "\n",
    "- `subset` : 可选，指定列名（字符串或列表），只根据这些列判断是否重复。如果不指定，默认使用所有列。\n",
    "- `keep` ：控制如何标记重复项\n",
    "\n",
    "  - `'first'`：除第一次出现外，其余重复项标记为 `True`\n",
    "  - `'last'`：除最后一次出现外，其余标记为 `True`\n",
    "  - `False`：所有重复项都标记为 `True`"
   ]
  },
  {
   "cell_type": "code",
   "execution_count": 1,
   "id": "935dfba4",
   "metadata": {},
   "outputs": [],
   "source": [
    "import seaborn as sns\n",
    "\n",
    "# 加载鸢尾花数据集\n",
    "iris = sns.load_dataset(\"iris\")"
   ]
  },
  {
   "cell_type": "code",
   "execution_count": 2,
   "id": "4a3782f6",
   "metadata": {},
   "outputs": [
    {
     "name": "stdout",
     "output_type": "stream",
     "text": [
      "鸢尾花数据集中有重复行吗？ True\n",
      "重复行数量： 1\n"
     ]
    }
   ],
   "source": [
    "# 检查是否有重复行\n",
    "duplicates_iris = iris.duplicated()\n",
    "\n",
    "print(\"鸢尾花数据集中有重复行吗？\", duplicates_iris.any())\n",
    "print(\"重复行数量：\", duplicates_iris.sum())"
   ]
  },
  {
   "cell_type": "markdown",
   "id": "c29bce78",
   "metadata": {},
   "source": [
    "### 对鸢尾花数据集进行分组，并依次使用分组后的四个操作\n",
    "- 聚合\n",
    "- 应用\n",
    "- 转换\n",
    "- 过滤"
   ]
  },
  {
   "cell_type": "code",
   "execution_count": 17,
   "id": "400371ac",
   "metadata": {},
   "outputs": [
    {
     "name": "stdout",
     "output_type": "stream",
     "text": [
      "sepal_length    float64\n",
      "sepal_width     float64\n",
      "petal_length    float64\n",
      "petal_width     float64\n",
      "species          object\n",
      "dtype: object\n"
     ]
    }
   ],
   "source": [
    "import pandas as pd\n",
    "import seaborn as sns\n",
    "\n",
    "iris = sns.load_dataset(\"iris\")\n",
    "\n",
    "print(iris.dtypes)"
   ]
  },
  {
   "cell_type": "markdown",
   "id": "cdc6a537",
   "metadata": {},
   "source": [
    "聚合操作，使用species进行分组，对每个分组计算均值"
   ]
  },
  {
   "cell_type": "code",
   "execution_count": 18,
   "id": "4ed48a42",
   "metadata": {},
   "outputs": [
    {
     "data": {
      "text/html": [
       "<div>\n",
       "<style scoped>\n",
       "    .dataframe tbody tr th:only-of-type {\n",
       "        vertical-align: middle;\n",
       "    }\n",
       "\n",
       "    .dataframe tbody tr th {\n",
       "        vertical-align: top;\n",
       "    }\n",
       "\n",
       "    .dataframe thead th {\n",
       "        text-align: right;\n",
       "    }\n",
       "</style>\n",
       "<table border=\"1\" class=\"dataframe\">\n",
       "  <thead>\n",
       "    <tr style=\"text-align: right;\">\n",
       "      <th></th>\n",
       "      <th>sepal_length</th>\n",
       "      <th>sepal_width</th>\n",
       "      <th>petal_length</th>\n",
       "      <th>petal_width</th>\n",
       "    </tr>\n",
       "    <tr>\n",
       "      <th>species</th>\n",
       "      <th></th>\n",
       "      <th></th>\n",
       "      <th></th>\n",
       "      <th></th>\n",
       "    </tr>\n",
       "  </thead>\n",
       "  <tbody>\n",
       "    <tr>\n",
       "      <th>setosa</th>\n",
       "      <td>5.006</td>\n",
       "      <td>3.428</td>\n",
       "      <td>1.462</td>\n",
       "      <td>0.246</td>\n",
       "    </tr>\n",
       "    <tr>\n",
       "      <th>versicolor</th>\n",
       "      <td>5.936</td>\n",
       "      <td>2.770</td>\n",
       "      <td>4.260</td>\n",
       "      <td>1.326</td>\n",
       "    </tr>\n",
       "    <tr>\n",
       "      <th>virginica</th>\n",
       "      <td>6.588</td>\n",
       "      <td>2.974</td>\n",
       "      <td>5.552</td>\n",
       "      <td>2.026</td>\n",
       "    </tr>\n",
       "  </tbody>\n",
       "</table>\n",
       "</div>"
      ],
      "text/plain": [
       "            sepal_length  sepal_width  petal_length  petal_width\n",
       "species                                                         \n",
       "setosa             5.006        3.428         1.462        0.246\n",
       "versicolor         5.936        2.770         4.260        1.326\n",
       "virginica          6.588        2.974         5.552        2.026"
      ]
     },
     "execution_count": 18,
     "metadata": {},
     "output_type": "execute_result"
    }
   ],
   "source": [
    "iris.groupby(\"species\").mean()"
   ]
  },
  {
   "cell_type": "markdown",
   "id": "7d814d0b",
   "metadata": {},
   "source": [
    "聚合操作，使用species进行分组，对花瓣长度计算均值，对花萼长度计算众数，对花瓣宽度计算标准差"
   ]
  },
  {
   "cell_type": "code",
   "execution_count": 19,
   "id": "c8468425",
   "metadata": {},
   "outputs": [
    {
     "data": {
      "text/html": [
       "<div>\n",
       "<style scoped>\n",
       "    .dataframe tbody tr th:only-of-type {\n",
       "        vertical-align: middle;\n",
       "    }\n",
       "\n",
       "    .dataframe tbody tr th {\n",
       "        vertical-align: top;\n",
       "    }\n",
       "\n",
       "    .dataframe thead th {\n",
       "        text-align: right;\n",
       "    }\n",
       "</style>\n",
       "<table border=\"1\" class=\"dataframe\">\n",
       "  <thead>\n",
       "    <tr style=\"text-align: right;\">\n",
       "      <th></th>\n",
       "      <th>sepal_length</th>\n",
       "      <th>sepal_width</th>\n",
       "      <th>petal_length</th>\n",
       "    </tr>\n",
       "    <tr>\n",
       "      <th>species</th>\n",
       "      <th></th>\n",
       "      <th></th>\n",
       "      <th></th>\n",
       "    </tr>\n",
       "  </thead>\n",
       "  <tbody>\n",
       "    <tr>\n",
       "      <th>setosa</th>\n",
       "      <td>5.006</td>\n",
       "      <td>0.379064</td>\n",
       "      <td>1.4</td>\n",
       "    </tr>\n",
       "    <tr>\n",
       "      <th>versicolor</th>\n",
       "      <td>5.936</td>\n",
       "      <td>0.313798</td>\n",
       "      <td>4.5</td>\n",
       "    </tr>\n",
       "    <tr>\n",
       "      <th>virginica</th>\n",
       "      <td>6.588</td>\n",
       "      <td>0.322497</td>\n",
       "      <td>5.1</td>\n",
       "    </tr>\n",
       "  </tbody>\n",
       "</table>\n",
       "</div>"
      ],
      "text/plain": [
       "            sepal_length  sepal_width  petal_length\n",
       "species                                            \n",
       "setosa             5.006     0.379064           1.4\n",
       "versicolor         5.936     0.313798           4.5\n",
       "virginica          6.588     0.322497           5.1"
      ]
     },
     "execution_count": 19,
     "metadata": {},
     "output_type": "execute_result"
    }
   ],
   "source": [
    "def mode(x:pd.Series):\n",
    "    return x.mode()[0]\n",
    "\n",
    "\n",
    "iris.groupby(\"species\").agg({\"sepal_length\": \"mean\", \"sepal_width\": \"std\", \"petal_length\": mode})"
   ]
  },
  {
   "cell_type": "markdown",
   "id": "cbd74c4f",
   "metadata": {},
   "source": [
    "`apply` --- 对**每个分组的子 DataFrame** 应用一个自定义函数，函数可以返回任意类型（标量、Series、DataFrame、字符串等）。\n"
   ]
  },
  {
   "cell_type": "markdown",
   "id": "f531d55f",
   "metadata": {},
   "source": [
    "\n",
    "比如对鸢尾花进行分组，返回鸢尾花各个种类花瓣长度的极差"
   ]
  },
  {
   "cell_type": "code",
   "execution_count": 20,
   "id": "4fbe5be6",
   "metadata": {},
   "outputs": [
    {
     "data": {
      "text/plain": [
       "species\n",
       "setosa        1.5\n",
       "versicolor    2.1\n",
       "virginica     3.0\n",
       "Name: sepal_length, dtype: float64"
      ]
     },
     "execution_count": 20,
     "metadata": {},
     "output_type": "execute_result"
    }
   ],
   "source": [
    "def range_func(x:pd.Series):\n",
    "    return x.max() - x.min()\n",
    "\n",
    "iris.groupby('species')['sepal_length'].apply(range_func)\n"
   ]
  },
  {
   "cell_type": "markdown",
   "id": "ea8cc319",
   "metadata": {},
   "source": [
    "**转换（Transform）** 对每个分组进行计算，但**返回的结果与原始数据形状相同**\n",
    "\n",
    "```python\n",
    ".transform(func)\n",
    "```\n",
    "\n",
    "可能不太好理解，还是使用示例看看变化情况，比如 计算每组 `petal_length` 的均值，并**广播到每行**"
   ]
  },
  {
   "cell_type": "code",
   "execution_count": 21,
   "id": "fa9dc30f",
   "metadata": {},
   "outputs": [
    {
     "data": {
      "text/html": [
       "<div>\n",
       "<style scoped>\n",
       "    .dataframe tbody tr th:only-of-type {\n",
       "        vertical-align: middle;\n",
       "    }\n",
       "\n",
       "    .dataframe tbody tr th {\n",
       "        vertical-align: top;\n",
       "    }\n",
       "\n",
       "    .dataframe thead th {\n",
       "        text-align: right;\n",
       "    }\n",
       "</style>\n",
       "<table border=\"1\" class=\"dataframe\">\n",
       "  <thead>\n",
       "    <tr style=\"text-align: right;\">\n",
       "      <th></th>\n",
       "      <th>sepal_length</th>\n",
       "      <th>sepal_width</th>\n",
       "      <th>petal_length</th>\n",
       "      <th>petal_width</th>\n",
       "      <th>species</th>\n",
       "      <th>sepal_length_mean</th>\n",
       "    </tr>\n",
       "  </thead>\n",
       "  <tbody>\n",
       "    <tr>\n",
       "      <th>0</th>\n",
       "      <td>5.1</td>\n",
       "      <td>3.5</td>\n",
       "      <td>1.4</td>\n",
       "      <td>0.2</td>\n",
       "      <td>setosa</td>\n",
       "      <td>5.006</td>\n",
       "    </tr>\n",
       "    <tr>\n",
       "      <th>1</th>\n",
       "      <td>4.9</td>\n",
       "      <td>3.0</td>\n",
       "      <td>1.4</td>\n",
       "      <td>0.2</td>\n",
       "      <td>setosa</td>\n",
       "      <td>5.006</td>\n",
       "    </tr>\n",
       "    <tr>\n",
       "      <th>2</th>\n",
       "      <td>4.7</td>\n",
       "      <td>3.2</td>\n",
       "      <td>1.3</td>\n",
       "      <td>0.2</td>\n",
       "      <td>setosa</td>\n",
       "      <td>5.006</td>\n",
       "    </tr>\n",
       "    <tr>\n",
       "      <th>3</th>\n",
       "      <td>4.6</td>\n",
       "      <td>3.1</td>\n",
       "      <td>1.5</td>\n",
       "      <td>0.2</td>\n",
       "      <td>setosa</td>\n",
       "      <td>5.006</td>\n",
       "    </tr>\n",
       "    <tr>\n",
       "      <th>4</th>\n",
       "      <td>5.0</td>\n",
       "      <td>3.6</td>\n",
       "      <td>1.4</td>\n",
       "      <td>0.2</td>\n",
       "      <td>setosa</td>\n",
       "      <td>5.006</td>\n",
       "    </tr>\n",
       "    <tr>\n",
       "      <th>...</th>\n",
       "      <td>...</td>\n",
       "      <td>...</td>\n",
       "      <td>...</td>\n",
       "      <td>...</td>\n",
       "      <td>...</td>\n",
       "      <td>...</td>\n",
       "    </tr>\n",
       "    <tr>\n",
       "      <th>145</th>\n",
       "      <td>6.7</td>\n",
       "      <td>3.0</td>\n",
       "      <td>5.2</td>\n",
       "      <td>2.3</td>\n",
       "      <td>virginica</td>\n",
       "      <td>6.588</td>\n",
       "    </tr>\n",
       "    <tr>\n",
       "      <th>146</th>\n",
       "      <td>6.3</td>\n",
       "      <td>2.5</td>\n",
       "      <td>5.0</td>\n",
       "      <td>1.9</td>\n",
       "      <td>virginica</td>\n",
       "      <td>6.588</td>\n",
       "    </tr>\n",
       "    <tr>\n",
       "      <th>147</th>\n",
       "      <td>6.5</td>\n",
       "      <td>3.0</td>\n",
       "      <td>5.2</td>\n",
       "      <td>2.0</td>\n",
       "      <td>virginica</td>\n",
       "      <td>6.588</td>\n",
       "    </tr>\n",
       "    <tr>\n",
       "      <th>148</th>\n",
       "      <td>6.2</td>\n",
       "      <td>3.4</td>\n",
       "      <td>5.4</td>\n",
       "      <td>2.3</td>\n",
       "      <td>virginica</td>\n",
       "      <td>6.588</td>\n",
       "    </tr>\n",
       "    <tr>\n",
       "      <th>149</th>\n",
       "      <td>5.9</td>\n",
       "      <td>3.0</td>\n",
       "      <td>5.1</td>\n",
       "      <td>1.8</td>\n",
       "      <td>virginica</td>\n",
       "      <td>6.588</td>\n",
       "    </tr>\n",
       "  </tbody>\n",
       "</table>\n",
       "<p>150 rows × 6 columns</p>\n",
       "</div>"
      ],
      "text/plain": [
       "     sepal_length  sepal_width  petal_length  petal_width    species  \\\n",
       "0             5.1          3.5           1.4          0.2     setosa   \n",
       "1             4.9          3.0           1.4          0.2     setosa   \n",
       "2             4.7          3.2           1.3          0.2     setosa   \n",
       "3             4.6          3.1           1.5          0.2     setosa   \n",
       "4             5.0          3.6           1.4          0.2     setosa   \n",
       "..            ...          ...           ...          ...        ...   \n",
       "145           6.7          3.0           5.2          2.3  virginica   \n",
       "146           6.3          2.5           5.0          1.9  virginica   \n",
       "147           6.5          3.0           5.2          2.0  virginica   \n",
       "148           6.2          3.4           5.4          2.3  virginica   \n",
       "149           5.9          3.0           5.1          1.8  virginica   \n",
       "\n",
       "     sepal_length_mean  \n",
       "0                5.006  \n",
       "1                5.006  \n",
       "2                5.006  \n",
       "3                5.006  \n",
       "4                5.006  \n",
       "..                 ...  \n",
       "145              6.588  \n",
       "146              6.588  \n",
       "147              6.588  \n",
       "148              6.588  \n",
       "149              6.588  \n",
       "\n",
       "[150 rows x 6 columns]"
      ]
     },
     "execution_count": 21,
     "metadata": {},
     "output_type": "execute_result"
    }
   ],
   "source": [
    "df = iris.copy()\n",
    "\n",
    "df['sepal_length_mean'] = df.groupby('species')['sepal_length'].transform('mean')\n",
    "df"
   ]
  },
  {
   "cell_type": "markdown",
   "id": "96487c99",
   "metadata": {},
   "source": [
    "可以看到，transform 操作实际上上是生成了一个和操作对象同等长度的新列，新列中，每一个组的聚合结果都广播到了该组中每一行"
   ]
  },
  {
   "cell_type": "markdown",
   "id": "13cadf76",
   "metadata": {},
   "source": [
    "**过滤（Filter）** 根据某个条件，**保留或丢弃整个组**\n",
    "\n",
    "```python\n",
    ".filter(func)\n",
    "```\n",
    "\n",
    "返回 `True` 保留该组，`False` 丢弃"
   ]
  },
  {
   "cell_type": "markdown",
   "id": "8e793c53",
   "metadata": {},
   "source": [
    "\n",
    "比如说，只保留鸢尾花中花瓣长度平均值 > 4 的组"
   ]
  },
  {
   "cell_type": "code",
   "execution_count": 27,
   "id": "33b24a9d",
   "metadata": {},
   "outputs": [
    {
     "name": "stdout",
     "output_type": "stream",
     "text": [
      "['setosa' 'versicolor' 'virginica']\n",
      "['versicolor' 'virginica']\n"
     ]
    }
   ],
   "source": [
    "df = iris.copy()\n",
    "print(df['species'].unique())\n",
    "\n",
    "df = df.groupby('species').filter(lambda x: x['petal_length'].mean() > 4)\n",
    "print(df['species'].unique())\n"
   ]
  },
  {
   "cell_type": "markdown",
   "id": "71584790",
   "metadata": {},
   "source": [
    "使用 seaborn 优化 matplotlib 的绘图"
   ]
  },
  {
   "cell_type": "markdown",
   "id": "4537d959",
   "metadata": {},
   "source": []
  },
  {
   "cell_type": "code",
   "execution_count": null,
   "id": "ea1b674f",
   "metadata": {},
   "outputs": [],
   "source": [
    "\n",
    "import matplotlib.pyplot as plt\n",
    "import seaborn as sns\n",
    "\n",
    "sns.set_theme(\"notebook\")\n",
    "\n",
    "plt.rcParams['font.sans-serif'] = 'SimHei'\n",
    "plt.rcParams['axes.unicode_minus'] = False\n",
    "\n",
    "\n",
    "plt.figure(figsize=(8, 6))\n",
    "plt.plot([1, 2, 3, 4], [10, 20, 25, 30], marker='o')\n",
    "plt.title('sns 优化 matplotlib 绘图')\n",
    "plt.show()"
   ]
  },
  {
   "cell_type": "markdown",
   "id": "6e50d74c",
   "metadata": {},
   "source": [
    "使用 seaborn 进行绘图"
   ]
  },
  {
   "cell_type": "code",
   "execution_count": null,
   "id": "28132b89",
   "metadata": {},
   "outputs": [],
   "source": [
    "import matplotlib.pyplot as plt\n",
    "import seaborn as sns\n",
    "import numpy as np\n",
    "\n",
    "# 设置 Seaborn 样式\n",
    "sns.set_theme(style=\"whitegrid\")\n",
    "\n",
    "\n",
    "# 生成数据\n",
    "x = np.linspace(0, 10, 100)\n",
    "y1 = np.sin(x)\n",
    "y2 = np.cos(x)\n",
    "\n",
    "# 绘图\n",
    "plt.figure(figsize=(10, 6))\n",
    "sns.lineplot(x=x, y=y1, label=\"sin(x)\")\n",
    "sns.lineplot(x=x, y=y2, label=\"cos(x)\")\n",
    "\n",
    "plt.title(\"Sine and Cosine Waves\")\n",
    "plt.xlabel(\"X\")\n",
    "plt.ylabel(\"Value\")\n",
    "sns.despine()  # 去除边框\n",
    "plt.legend()\n",
    "plt.tight_layout()\n",
    "plt.show()"
   ]
  },
  {
   "cell_type": "markdown",
   "id": "6d944e77",
   "metadata": {},
   "source": [
    "后续使用鸢尾花数据集演示"
   ]
  },
  {
   "cell_type": "code",
   "execution_count": null,
   "id": "43fef845",
   "metadata": {},
   "outputs": [],
   "source": [
    "iris = sns.load_dataset(\"iris\")\n",
    "iris.head()"
   ]
  },
  {
   "cell_type": "markdown",
   "id": "81964665",
   "metadata": {},
   "source": [
    "绘制分类散点图"
   ]
  },
  {
   "cell_type": "code",
   "execution_count": null,
   "id": "6ffdd570",
   "metadata": {},
   "outputs": [],
   "source": [
    "# 探究 species 与 sepal_length 之间的关系\n",
    "sns.stripplot(data=iris, x='species', y='sepal_length')\n"
   ]
  },
  {
   "cell_type": "markdown",
   "id": "263615e4",
   "metadata": {},
   "source": [
    "绘制分类分布图"
   ]
  },
  {
   "cell_type": "code",
   "execution_count": null,
   "id": "2dd7ff48",
   "metadata": {},
   "outputs": [],
   "source": [
    "sns.boxplot(data=iris, x='species', y='sepal_length')"
   ]
  },
  {
   "cell_type": "markdown",
   "id": "3a1f722f",
   "metadata": {},
   "source": [
    "绘制分类估计图"
   ]
  },
  {
   "cell_type": "code",
   "execution_count": null,
   "id": "26725c26",
   "metadata": {},
   "outputs": [],
   "source": [
    "sns.barplot(data=iris, x='species', y='sepal_length')"
   ]
  },
  {
   "cell_type": "markdown",
   "id": "3a13131b",
   "metadata": {},
   "source": [
    "上述是具体的接口，但是实际上都可以通过 catplot + kind 参数控制"
   ]
  },
  {
   "cell_type": "code",
   "execution_count": null,
   "id": "760eaa40",
   "metadata": {},
   "outputs": [],
   "source": [
    "sns.catplot(data=iris, x='species', y='sepal_length', kind=\"bar\")"
   ]
  },
  {
   "cell_type": "markdown",
   "id": "796bbe05",
   "metadata": {},
   "source": [
    "绘制词云图"
   ]
  },
  {
   "cell_type": "code",
   "execution_count": null,
   "id": "0ce625f6",
   "metadata": {},
   "outputs": [],
   "source": [
    "from wordcloud import WordCloud\n",
    "import matplotlib.pyplot as plt\n",
    "\n",
    "text = \"示例文本 示例 词云 生成 示例文本\"\n",
    "\n",
    "wordcloud = WordCloud(font_path='simhei.ttf',  # 设置字体路径，避免中文乱码\n",
    "                      width=800, height=400,   # 设置词云的大小\n",
    "                      max_words=200,           # 设置词云中最大单词数量\n",
    "                      background_color=\"white\" # 设置背景颜色\n",
    "                      ).generate(text)\n",
    "\n",
    "\n",
    "plt.figure(figsize=(10, 5))\n",
    "plt.imshow(wordcloud, interpolation='bilinear')\n",
    "plt.axis(\"off\")  # 不显示坐标轴\n",
    "plt.show()"
   ]
  },
  {
   "cell_type": "markdown",
   "id": "506c91e1",
   "metadata": {},
   "source": [
    "缺失值的处理\n",
    "1. 发现缺失值\n",
    "2. 处理缺失值"
   ]
  },
  {
   "cell_type": "code",
   "execution_count": null,
   "id": "7544bc0d",
   "metadata": {},
   "outputs": [],
   "source": [
    "# 查看缺失值分布情况\n",
    "\n",
    "import pandas as pd\n",
    "import numpy as np\n",
    "\n",
    "# 模拟一个电商用户行为数据集\n",
    "data = {\n",
    "    'user_id': [101, 102, 103, 104, 105, 106, 107, 108],\n",
    "    'age': [25, np.nan, 30, np.nan, 35, 28, np.nan, 40],\n",
    "    'gender': ['M', 'F', np.nan, 'M', 'F', 'M', 'F', 'M'],\n",
    "    'purchase_amount': [200, 150, np.nan, 300, np.nan, np.nan, 220, 180],\n",
    "    'category': ['Electronics', 'Clothing', 'Books', np.nan, 'Electronics', 'Books', 'Clothing', 'Electronics'],\n",
    "    'review_score': [4.5, np.nan, np.nan, 5.0, np.nan, np.nan, 4.0, np.nan]\n",
    "}\n",
    "\n",
    "df = pd.DataFrame(data)\n",
    "print(\"原始数据：\")\n",
    "print(df)\n",
    "\n",
    "# 查看缺失值分布情况\n",
    "missing_info = pd.DataFrame({\n",
    "    'missing_count': df.isna().sum(),\n",
    "    'missing_ratio': df.isna().sum() / len(df)\n",
    "})\n",
    "\n",
    "# 按缺失数量排序\n",
    "missing_info = missing_info.sort_values(by='missing_count', ascending=False)\n",
    "\n",
    "print(\"各列缺失值分布情况：\")\n",
    "print(missing_info)"
   ]
  },
  {
   "cell_type": "markdown",
   "id": "41e785cb",
   "metadata": {},
   "source": [
    "对缺失值进行处理"
   ]
  },
  {
   "cell_type": "code",
   "execution_count": null,
   "id": "45961fb3",
   "metadata": {},
   "outputs": [],
   "source": [
    "import pandas as pd\n",
    "import numpy as np\n",
    "import matplotlib.pyplot as plt\n",
    "import seaborn as sns\n",
    "from sklearn.experimental import enable_iterative_imputer\n",
    "from sklearn.impute import KNNImputer, IterativeImputer\n",
    "\n",
    "# 设置随机种子，保证结果可复现\n",
    "np.random.seed(42)\n",
    "\n",
    "# 创建模拟数据\n",
    "data = {\n",
    "    'user_id': range(1001, 1021),\n",
    "    'age': [25, np.nan, 30, np.nan, 35, 28, np.nan, 40, 22, 33,\n",
    "            27, np.nan, 38, 29, np.nan, 31, 26, 34, np.nan, 36],\n",
    "    'gender': ['M', 'F', np.nan, 'M', 'F', 'M', 'F', 'M', 'F', 'M',\n",
    "               'F', 'M', np.nan, 'F', 'M', 'F', 'M', np.nan, 'F', 'M'],\n",
    "    'purchase_amount': [200, 150, np.nan, 300, np.nan, np.nan, 220, 180, 130, np.nan,\n",
    "                        250, 170, np.nan, 190, np.nan, 210, 160, np.nan, 140, 185],\n",
    "    'category': ['Electronics', 'Clothing', 'Books', np.nan, 'Electronics', 'Books',\n",
    "                 'Clothing', 'Electronics', 'Books', 'Clothing',\n",
    "                 np.nan, 'Electronics', 'Books', 'Clothing', 'Electronics',\n",
    "                 'Books', 'Clothing', 'Electronics', 'Books', 'Clothing'],\n",
    "    'review_score': [4.5, np.nan, np.nan, 5.0, np.nan, np.nan, 4.0, 4.2, np.nan, np.nan,\n",
    "                     4.8, 3.9, np.nan, 4.1, np.nan, 4.3, 3.8, np.nan, 4.0, 4.4]\n",
    "}\n",
    "\n",
    "df = pd.DataFrame(data)"
   ]
  },
  {
   "cell_type": "code",
   "execution_count": null,
   "id": "94bd2df7",
   "metadata": {},
   "outputs": [],
   "source": [
    "df_mean = df.copy()\n",
    "\n",
    "# 数值型用均值填充\n",
    "df['age'] = df['age'].fillna(df['age'].mean())\n",
    "df['gender'] = df['gender'].fillna(df['gender'].mode()[0])\n",
    "df['review_score'] = df['review_score'].fillna(df['review_score'].mean())\n",
    "\n",
    "# 分类型用众数填充\n",
    "df_mean['gender'] = df_mean['gender'].fillna(df_mean['gender'].mode()[0])\n",
    "df_mean['category'] = df_mean['category'].fillna(df_mean['category'].mode()[0])\n",
    "\n",
    "print(\"\\n【方法一】均值/众数填充后（age 均值: {:.1f}）:\".format(df['age'].mean()))\n",
    "print(df_mean[['age', 'purchase_amount', 'review_score']].head())"
   ]
  },
  {
   "cell_type": "code",
   "execution_count": null,
   "id": "5cde3c80",
   "metadata": {},
   "outputs": [],
   "source": [
    "# 前向填充\n",
    "\n",
    "df_ffill = df.copy()\n",
    "df_ffill = df_ffill.ffill()\n",
    "\n",
    "print(\"\\n【方法二】前向填充：\")\n",
    "print(df_ffill[['age', 'gender', 'purchase_amount']].head())"
   ]
  },
  {
   "cell_type": "markdown",
   "id": "4b51442f",
   "metadata": {},
   "source": [
    "使用泰坦尼克号的数据集分别展示几种数据类型转换的方式"
   ]
  },
  {
   "cell_type": "markdown",
   "id": "abe6bba3",
   "metadata": {},
   "source": []
  },
  {
   "cell_type": "code",
   "execution_count": null,
   "id": "71d270df",
   "metadata": {},
   "outputs": [],
   "source": [
    "import pandas as pd\n",
    "import seaborn as sns\n",
    "\n",
    "# 加载泰坦尼克号数据集\n",
    "titanic = sns.load_dataset('titanic')\n",
    "\n",
    "# 查看前几行数据和数据类型\n",
    "print(titanic.head())\n",
    "print(titanic.dtypes)"
   ]
  },
  {
   "cell_type": "markdown",
   "id": "c7f6b07d",
   "metadata": {},
   "source": [
    "查看数据缺失情况"
   ]
  },
  {
   "cell_type": "code",
   "execution_count": null,
   "id": "c76f293c",
   "metadata": {},
   "outputs": [],
   "source": [
    "titanic.isna().sum()"
   ]
  },
  {
   "cell_type": "code",
   "execution_count": null,
   "id": "aeed54fa",
   "metadata": {},
   "outputs": [],
   "source": [
    "# 处理缺失值\n",
    "titanic = titanic.fillna({\n",
    "        'age': titanic['age'].median(),\n",
    "        'deck': 'C',\n",
    "        'embarked': 'N'\n",
    "    })"
   ]
  },
  {
   "cell_type": "markdown",
   "id": "26fa11a3",
   "metadata": {},
   "source": [
    "将 pclass（船舱等级）从 int64 转换为 category 类型"
   ]
  },
  {
   "cell_type": "code",
   "execution_count": null,
   "id": "711f1e53",
   "metadata": {},
   "outputs": [],
   "source": [
    "print(titanic['pclass'].dtype)\n",
    "titanic['pclass'] = titanic['pclass'].astype('category')\n",
    "print(titanic['pclass'].dtype)\n"
   ]
  },
  {
   "cell_type": "markdown",
   "id": "7f21d6a2",
   "metadata": {},
   "source": [
    "假设 fare 列中存在非数值字符（如 $ 符号），需要清理并转换为 float 类型"
   ]
  },
  {
   "cell_type": "code",
   "execution_count": null,
   "id": "861f7117",
   "metadata": {},
   "outputs": [],
   "source": [
    "# 模拟带有符号的 fare 数据\n",
    "titanic['fare_str'] = titanic['fare'].apply(lambda x: f\"${x:.2f}\")\n",
    "print(titanic['fare_str'].dtype)\n",
    "print(titanic['fare_str'].head())\n"
   ]
  },
  {
   "cell_type": "code",
   "execution_count": null,
   "id": "bad15a01",
   "metadata": {},
   "outputs": [],
   "source": [
    "# titanic['fare_str'] = titanic['fare_str'].str.replace('$', '').astype(float)\n",
    "# print(titanic['fare_str'].dtype)\n",
    "\n",
    "# 使用更加健壮的方式\n",
    "# errors='coerce' 会将无法转换的值设置为 NaN\n",
    "titanic['fare_str'] = pd.to_numeric(titanic['fare_str'].str.replace('$', ''), errors='coerce')\n",
    "print(titanic['fare_str'].dtype)\n"
   ]
  },
  {
   "cell_type": "markdown",
   "id": "2af3657f",
   "metadata": {},
   "source": [
    "泰坦尼克号数据集中没有日期字段，但我们可以模拟一个“出生日期”列并转换为 datetime 类型"
   ]
  },
  {
   "cell_type": "code",
   "execution_count": null,
   "id": "422dbc18",
   "metadata": {},
   "outputs": [],
   "source": [
    "# 构造一个出生日期列（假设年龄为整数）\n",
    "titanic['birth_year'] = (2024 - titanic['age']).astype(int)\n",
    "titanic['birth_date'] = titanic['birth_year'].astype(str) + '-01-01'"
   ]
  },
  {
   "cell_type": "code",
   "execution_count": null,
   "id": "525826ba",
   "metadata": {},
   "outputs": [],
   "source": [
    "# 转换为 datetime 类型\n",
    "titanic['birth_date'] = pd.to_datetime(titanic['birth_date'])\n",
    "print(titanic['birth_date'].dtype)\n"
   ]
  },
  {
   "cell_type": "markdown",
   "id": "52f46d8c",
   "metadata": {},
   "source": [
    "to_datetime 的关键参数"
   ]
  },
  {
   "cell_type": "code",
   "execution_count": null,
   "id": "7d81682e",
   "metadata": {},
   "outputs": [],
   "source": [
    "import pandas as pd\n",
    "\n",
    "date_str = '2023-01-01'\n",
    "date = pd.to_datetime(date_str)\n",
    "print(date)\n",
    "\n",
    "# 处理多个日期\n",
    "date_list = ['2023-01-01', '2023-02-01', '2023-03-01']\n",
    "dates = pd.to_datetime(date_list)\n",
    "print(dates)\n",
    "\n",
    "# 使用 format 参数\n",
    "date_str = '01/02/2023'\n",
    "date = pd.to_datetime(date_str, format='%d/%m/%Y')\n",
    "print(date)\n",
    "\n",
    "# 处理无效日期\n",
    "date_list = ['2023-01-01', 'invalid_date']\n",
    "dates = pd.to_datetime(date_list, errors='coerce')\n",
    "print(dates)\n"
   ]
  },
  {
   "cell_type": "code",
   "execution_count": null,
   "id": "983db49a",
   "metadata": {},
   "outputs": [],
   "source": [
    "print(pd.to_datetime('01/02/2023', dayfirst=True))"
   ]
  },
  {
   "cell_type": "code",
   "execution_count": 4,
   "id": "c360ffee",
   "metadata": {},
   "outputs": [
    {
     "data": {
      "image/png": "[encoded data removed]",
      "text/plain": [
       "<Figure size 640x480 with 1 Axes>"
      ]
     },
     "metadata": {},
     "output_type": "display_data"
    }
   ],
   "source": [
    "import pandas as pd\n",
    "import seaborn as sns\n",
    "import matplotlib.pyplot as plt\n",
    "\n",
    "plt.rcParams['font.sans-serif'] = 'SimHei'\n",
    "plt.rcParams['axes.unicode_minus'] = False\n",
    "\n",
    "# 多产品数据\n",
    "data_multi = pd.DataFrame({\n",
    "    'Year': [2018, 2019, 2020, 2021, 2022, 2023] * 2,\n",
    "    'Product': ['A'] * 6 + ['B'] * 6,\n",
    "    'Sales': [120, 135, 140, 160, 180, 200, 100, 110, 130, 145, 150, 160]\n",
    "})\n",
    "\n",
    "sns.lineplot(data=data_multi, x='Year', y='Sales', hue='Product', marker='o', style='Product', errorbar=('ci', 95))\n",
    "\n",
    "plt.title('不同产品年度销售额趋势对比')\n",
    "plt.xlabel('年份')\n",
    "plt.ylabel('销售额（万元）')\n",
    "plt.grid(True)\n",
    "plt.show()"
   ]
  }
 ],
 "metadata": {
  "kernelspec": {
   "display_name": "ds-learn (3.13.3)",
   "language": "python",
   "name": "python3"
  },
  "language_info": {
   "codemirror_mode": {
    "name": "ipython",
    "version": 3
   },
   "file_extension": ".py",
   "mimetype": "text/x-python",
   "name": "python",
   "nbconvert_exporter": "python",
   "pygments_lexer": "ipython3",
   "version": "3.13.3"
  }
 },
 "nbformat": 4,
 "nbformat_minor": 5
}
