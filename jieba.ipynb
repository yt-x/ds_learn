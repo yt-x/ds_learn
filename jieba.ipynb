{
 "cells": [
  {
   "cell_type": "markdown",
   "id": "70508f68",
   "metadata": {},
   "source": [
    "自定义字典对于效果分词的一个"
   ]
  },
  {
   "cell_type": "markdown",
   "id": "5c0b7ab5",
   "metadata": {},
   "source": [
    "有勇气的牛排\n",
    "\n",
    "编程领域\n",
    "\n",
    "博主"
   ]
  },
  {
   "cell_type": "code",
   "execution_count": 1,
   "id": "b72e1877",
   "metadata": {},
   "outputs": [
    {
     "name": "stderr",
     "output_type": "stream",
     "text": [
      "c:\\Users\\xytcs\\Desktop\\uv python\\ds_learn\\.venv\\Lib\\site-packages\\jieba\\_compat.py:18: UserWarning: pkg_resources is deprecated as an API. See https://setuptools.pypa.io/en/latest/pkg_resources.html. The pkg_resources package is slated for removal as early as 2025-11-30. Refrain from using this package or pin to Setuptools<81.\n",
      "  import pkg_resources\n",
      "Building prefix dict from the default dictionary ...\n",
      "Loading model from cache C:\\Users\\xytcs\\AppData\\Local\\Temp\\jieba.cache\n"
     ]
    },
    {
     "name": "stdout",
     "output_type": "stream",
     "text": [
      "默认分词结果：\n"
     ]
    },
    {
     "name": "stderr",
     "output_type": "stream",
     "text": [
      "Loading model cost 0.638 seconds.\n",
      "Prefix dict has been built successfully.\n"
     ]
    },
    {
     "name": "stdout",
     "output_type": "stream",
     "text": [
      "['有', '勇气', '的', '牛排', '是', '一个', '编程', '领域', '博主', '的', '名字']\n",
      "\n",
      "加载自定义词典后：\n",
      "['有勇气的牛排', '是', '一个', '编程领域', '博主', '的', '名字']\n"
     ]
    }
   ],
   "source": [
    "import jieba\n",
    "\n",
    "text = \"有勇气的牛排是一个编程领域博主的名字\"\n",
    "\n",
    "print(\"默认分词结果：\")\n",
    "print(jieba.lcut(text))\n",
    "\n",
    "print(\"\\n加载自定义词典后：\")\n",
    "\n",
    "# 加载自定义词典\n",
    "jieba.load_userdict(r\"source\\jieba\\custom_dict.txt\")\n",
    "\n",
    "print(jieba.lcut(text))"
   ]
  },
  {
   "cell_type": "code",
   "execution_count": 3,
   "id": "8c33c20e",
   "metadata": {},
   "outputs": [
    {
     "name": "stdout",
     "output_type": "stream",
     "text": [
      "原始分词：\n",
      "['影视', '飓风', '的', 'Tim', ',', ' ', '计划', '要', '优化', '大模型推理', '的', '延迟', '，', '提升', 'Prompt工程', '的', '效果']\n",
      "\n",
      "添加词汇后：\n",
      "['影视飓风', '的', 'Tim', ',', ' ', '计划', '要', '优化', '大模型推理', '的', '延迟', '，', '提升', 'Prompt工程', '的', '效果']\n"
     ]
    }
   ],
   "source": [
    "import jieba\n",
    "\n",
    "text = \"影视飓风的Tim, 计划要优化大模型推理的延迟，提升Prompt工程的效果\"\n",
    "\n",
    "print(\"原始分词：\")\n",
    "print(jieba.lcut(text))\n",
    "\n",
    "# 动态添加词汇\n",
    "jieba.add_word(\"影视飓风\")\n",
    "jieba.add_word(\"Prompt工程\")\n",
    "\n",
    "print(\"\\n添加词汇后：\")\n",
    "print(jieba.lcut(text))"
   ]
  }
 ],
 "metadata": {
  "kernelspec": {
   "display_name": "ds-learn (3.13.3)",
   "language": "python",
   "name": "python3"
  },
  "language_info": {
   "codemirror_mode": {
    "name": "ipython",
    "version": 3
   },
   "file_extension": ".py",
   "mimetype": "text/x-python",
   "name": "python",
   "nbconvert_exporter": "python",
   "pygments_lexer": "ipython3",
   "version": "3.13.3"
  }
 },
 "nbformat": 4,
 "nbformat_minor": 5
}
