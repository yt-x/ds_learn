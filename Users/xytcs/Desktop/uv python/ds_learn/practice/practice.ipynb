import pandas as pd
import numpy as np

# 模拟数据
np.random.seed(42)
num_customers = 500
num_flights = 5000

# Convert flight_numbers to numpy array
customer_ids = [f'C_{i:04d}' for i in range(1, num_customers + 1)]
flight_dates = pd.to_datetime('2022-01-01') + pd.to_timedelta(np.random.randint(0, 365, num_flights), unit='D')
flight_numbers = np.array([f'AA{np.random.randint(100, 999)}' for _ in range(num_flights)])  # Convert to numpy array
origins = np.random.choice(['JFK', 'LAX', 'ORD', 'DFW', 'ATL', 'DEN', 'SFO', 'CLT'], num_flights)
destinations = np.random.choice(['JFK', 'LAX', 'ORD', 'DFW', 'ATL', 'DEN', 'SFO', 'CLT'], num_flights)
fares = np.random.randint(50, 2000, num_flights).astype(object)
cabin_classes = np.random.choice(['Economy', 'Business', 'First'], num_flights, p=[0.7, 0.2, 0.1])
distance_miles = np.random.randint(200, 5000, num_flights)

# Introduce some missing values and dirty data
fares[np.random.choice(num_flights, 50, replace=False)] = np.nan
fares[np.random.choice(num_flights, 30, replace=False)] = 'USD ' + fares[np.random.choice(num_flights, 30, replace=False)].astype(str)
flight_numbers[np.random.choice(num_flights, 20, replace=False)] = np.nan  # This will now work
cabin_classes[np.random.choice(num_flights, 40, replace=False)] = ''
distance_miles[np.random.choice(num_flights, 60, replace=False)] = -100