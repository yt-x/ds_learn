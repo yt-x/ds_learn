{
 "cells": [
  {
   "cell_type": "markdown",
   "id": "65717599",
   "metadata": {},
   "source": [
    "## 题目1：航空公司客户价值分析"
   ]
  },
  {
   "cell_type": "markdown",
   "id": "f62c3bdd",
   "metadata": {},
   "source": [
    "### 题目描述"
   ]
  },
  {
   "cell_type": "markdown",
   "id": "2d64ea3d",
   "metadata": {},
   "source": [
    "您是某航空公司的初级数据分析师，公司希望通过分析客户的历史飞行数据来识别高价值客户，以便进行精准营销。现在您得到了一份名为 `flight_data.csv` 的模拟数据集。该数据集包含了客户的以下信息：\n",
    "\n",
    "- `customer_id`: 客户唯一标识符\n",
    "- `flight_date`: 飞行日期（格式：YYYY-MM-DD）\n",
    "- `flight_number`: 航班号\n",
    "- `origin`: 出发地\n",
    "- `destination`: 目的地\n",
    "- `fare`: 票价（可能包含非数字字符，如 'USD'）\n",
    "- `cabin_class`: 舱位等级（例如：Economy, Business, First）\n",
    "- `distance_miles`: 飞行距离（英里）\n",
    "\n",
    "请您使用 Python 对这份数据进行以下分析，以实现客户价值评估：\n",
    "\n",
    "\n",
    "### 目标要求：\n",
    "\n",
    "1.  **数据加载与概览**：\n",
    "    *   加载 `flight_data.csv` 文件到 Pandas DataFrame。\n",
    "    *   显示数据集的前5行、数据类型和基本统计信息。\n",
    "\n",
    "2.  **数据清洗与预处理**：\n",
    "    *   **处理 `fare` 字段**：\n",
    "        *   去除 'USD ' 前缀（如果存在）。\n",
    "        *   将 `fare` 列转换为数值类型。\n",
    "        *   使用该列的**中位数**填充缺失值。\n",
    "    *   **处理 `flight_number` 字段**：\n",
    "        *   将缺失值（`None`）填充为 'UNKNOWN'。\n",
    "    *   **处理 `cabin_class` 字段**：\n",
    "        *   将空字符串（`''`）替换为 'Economy' (假设空字符串代表经济舱)。\n",
    "    *   **处理 `distance_miles` 字段**：\n",
    "        *   将小于等于 0 的值替换为该列的**平均值**。\n",
    "    *   **处理 `flight_date` 字段**：\n",
    "        *   确保其为 datetime 类型。\n",
    "\n",
    "3.  **计算 RFM 指标**：\n",
    "    为了评估客户价值，我们需要计算每个客户的 RFM (Recency, Frequency, Monetary) 指标。\n",
    "    *   **Recency (近度)**：\n",
    "        *   计算每个客户**距离最近一次飞行日期**的天数。以数据集中的最大飞行日期作为“当前日期”。\n",
    "    *   **Frequency (频度)**：\n",
    "        *   计算每个客户**总的飞行次数**。\n",
    "    *   **Monetary (价值)**：\n",
    "        *   计算每个客户**总的票价花费**。\n",
    "\n",
    "    请将这些 RFM 指标合并到一个新的 DataFrame 中，其中包含 `customer_id`, `Recency`, `Frequency`, `Monetary`。\n",
    "\n",
    "4.  **客户分群**：\n",
    "    基于 RFM 指标，对客户进行简单的分群。\n",
    "    *   将 `Recency`, `Frequency`, `Monetary` 各自划分为 3 个等级 (1 到 3，等级越高代表表现越好)。\n",
    "        *   `Recency`: 值越小越好 (最近飞行)，因此等级划分规则为：最小 33% 设为 3，中间 33% 设为 2，最大 33% 设为 1。\n",
    "        *   `Frequency`: 值越大越好 (飞行次数多)，因此等级划分规则为：最小 33% 设为 1，中间 33% 设为 2，最大 33% 设为 3。\n",
    "        *   `Monetary`: 值越大越好 (花费金额高)，因此等级划分规则与 Frequency 相同。\n",
    "    *   创建一个新的列 `RFM_Score`，其值为 `Recency_Score` * 100 + `Frequency_Score` * 10 + `Monetary_Score`。\n",
    "    *   根据 `RFM_Score` 对客户进行分群，例如：\n",
    "        *   `RFM_Score` >= 323: \"高价值客户\"\n",
    "        *   `RFM_Score` >= 222 and `RFM_Score` < 323: \"中价值客户\"\n",
    "        *   `RFM_Score` < 222: \"低价值客户\"\n",
    "    *   统计各客户群体的数量。"
   ]
  },
  {
   "cell_type": "markdown",
   "id": "b1df138b",
   "metadata": {},
   "source": [
    "### 模拟数据\n",
    "\n",
    "为了方便练习，使用以下代码创建 `flight_data.csv` 文件：\n"
   ]
  },
  {
   "cell_type": "code",
   "execution_count": 8,
   "id": "c41976c5",
   "metadata": {},
   "outputs": [
    {
     "name": "stdout",
     "output_type": "stream",
     "text": [
      "flight_data.csv created successfully!\n"
     ]
    }
   ],
   "source": [
    "import pandas as pd\n",
    "import numpy as np\n",
    "\n",
    "# 模拟数据\n",
    "np.random.seed(42)\n",
    "num_customers = 500\n",
    "num_flights = 5000\n",
    "\n",
    "customer_ids = [f'C_{i:04d}' for i in range(1, num_customers + 1)]\n",
    "flight_dates = pd.to_datetime('2022-01-01') + pd.to_timedelta(np.random.randint(0, 365, num_flights), unit='D')\n",
    "flight_numbers = np.array([f'AA{np.random.randint(100, 999)}' for _ in range(num_flights)])  # Convert to numpy array\n",
    "origins = np.random.choice(['JFK', 'LAX', 'ORD', 'DFW', 'ATL', 'DEN', 'SFO', 'CLT'], num_flights)\n",
    "destinations = np.random.choice(['JFK', 'LAX', 'ORD', 'DFW', 'ATL', 'DEN', 'SFO', 'CLT'], num_flights)\n",
    "fares = np.random.randint(50, 2000, num_flights).astype(object)\n",
    "cabin_classes = np.random.choice(['Economy', 'Business', 'First'], num_flights, p=[0.7, 0.2, 0.1])\n",
    "distance_miles = np.random.randint(200, 5000, num_flights)\n",
    "\n",
    "# Introduce some missing values and dirty data\n",
    "fares[np.random.choice(num_flights, 50, replace=False)] = np.nan\n",
    "fares[np.random.choice(num_flights, 30, replace=False)] = 'USD ' + fares[np.random.choice(num_flights, 30, replace=False)].astype(str)\n",
    "flight_numbers[np.random.choice(num_flights, 20, replace=False)] = np.nan  # This will now work\n",
    "cabin_classes[np.random.choice(num_flights, 40, replace=False)] = ''\n",
    "distance_miles[np.random.choice(num_flights, 60, replace=False)] = -100\n",
    "\n",
    "data = pd.DataFrame({\n",
    "    'customer_id': np.random.choice(customer_ids, num_flights, replace=True),\n",
    "    'flight_date': flight_dates,\n",
    "    'flight_number': flight_numbers,\n",
    "    'origin': origins,\n",
    "    'destination': destinations,\n",
    "    'fare': fares,\n",
    "    'cabin_class': cabin_classes,\n",
    "    'distance_miles': distance_miles\n",
    "})\n",
    "\n",
    "data.to_csv(r'csv\\flight_data.csv', index=False)\n",
    "print(\"flight_data.csv created successfully!\")"
   ]
  },
  {
   "cell_type": "markdown",
   "id": "8ec353d9",
   "metadata": {},
   "source": [
    "### 答题"
   ]
  },
  {
   "cell_type": "code",
   "execution_count": 9,
   "id": "f5af77c7",
   "metadata": {},
   "outputs": [],
   "source": [
    "import pandas as pd\n",
    "import numpy as np\n",
    "import matplotlib.pyplot as plt\n",
    "import seaborn as sns\n",
    "\n",
    "plt.rcParams['font.sans-serif'] = ['SimHei']\n",
    "plt.rcParams['axes.unicode_minus'] = False"
   ]
  },
  {
   "cell_type": "markdown",
   "id": "64eb24ac",
   "metadata": {},
   "source": [
    "1.  **数据加载与概览**：\n",
    "    *   加载 `flight_data.csv` 文件到 Pandas DataFrame。\n",
    "    *   显示数据集的前5行、数据类型和基本统计信息。"
   ]
  },
  {
   "cell_type": "code",
   "execution_count": 31,
   "id": "ea8aab86",
   "metadata": {},
   "outputs": [
    {
     "name": "stdout",
     "output_type": "stream",
     "text": [
      "数据前 5 行:\n",
      "  customer_id flight_date flight_number origin destination  fare cabin_class  \\\n",
      "0      C_0335  2022-04-13         AA961    ORD         JFK   443     Economy   \n",
      "1      C_0147  2022-12-15         AA667    JFK         JFK  1859     Economy   \n",
      "2      C_0102  2022-09-28         AA159    ORD         JFK   839    Business   \n",
      "3      C_0288  2022-04-17         AA749    ORD         DEN   644       First   \n",
      "4      C_0313  2022-03-13         AA138    SFO         SFO   107     Economy   \n",
      "\n",
      "   distance_miles  \n",
      "0            4980  \n",
      "1            4856  \n",
      "2            4418  \n",
      "3            2865  \n",
      "4             615  \n",
      "\n",
      "数据类型:\n",
      "customer_id       object\n",
      "flight_date       object\n",
      "flight_number     object\n",
      "origin            object\n",
      "destination       object\n",
      "fare              object\n",
      "cabin_class       object\n",
      "distance_miles     int64\n",
      "dtype: object\n",
      "\n",
      "数据基本统计:\n",
      "       distance_miles\n",
      "count     5000.000000\n",
      "mean      2554.478400\n",
      "std       1395.315114\n",
      "min       -100.000000\n",
      "25%       1354.750000\n",
      "50%       2590.000000\n",
      "75%       3758.250000\n",
      "max       4997.000000\n",
      "\n"
     ]
    }
   ],
   "source": [
    "df = pd.read_csv(r\"csv\\flight_data.csv\")\n",
    "\n",
    "print(f\"数据前 5 行:\\n{df.head()}\\n\")\n",
    "print(f\"数据类型:\\n{df.dtypes}\\n\")\n",
    "print(f\"数据基本统计:\\n{df.describe()}\\n\")\n"
   ]
  },
  {
   "cell_type": "markdown",
   "id": "a2897aeb",
   "metadata": {},
   "source": [
    "2.  **数据清洗与预处理**：\n",
    "    *   **处理 `fare` 字段**：\n",
    "        *   去除 'USD ' 前缀（如果存在）。\n",
    "        *   将 `fare` 列转换为数值类型。\n",
    "        *   使用该列的**中位数**填充缺失值。\n",
    "    *   **处理 `flight_number` 字段**：\n",
    "        *   将缺失值（`None`）填充为 'UNKNOWN'。\n",
    "    *   **处理 `cabin_class` 字段**：\n",
    "        *   将空字符串（`''`）替换为 'Economy' (假设空字符串代表经济舱)。\n",
    "    *   **处理 `distance_miles` 字段**：\n",
    "        *   将小于等于 0 的值替换为该列的**平均值**。\n",
    "    *   **处理 `flight_date` 字段**：\n",
    "        *   确保其为 datetime 类型。"
   ]
  },
  {
   "cell_type": "code",
   "execution_count": 32,
   "id": "938470b7",
   "metadata": {},
   "outputs": [],
   "source": [
    "df['fare'] = df['fare'].replace('USD ', \"\", regex=True).str.strip().astype(float)\n",
    "\n",
    "df['fare'] = df['fare'].fillna(df['fare'].median())"
   ]
  },
  {
   "cell_type": "code",
   "execution_count": 33,
   "id": "bab4b385",
   "metadata": {},
   "outputs": [],
   "source": [
    "df['flight_number'] = df['flight_number'].fillna(\"UNKNOWN\")"
   ]
  },
  {
   "cell_type": "code",
   "execution_count": 36,
   "id": "b5ee6ca6",
   "metadata": {},
   "outputs": [],
   "source": [
    "df['cabin_class'] = df['cabin_class'].replace('', 'Economy', regex=True)"
   ]
  },
  {
   "cell_type": "code",
   "execution_count": 53,
   "id": "cfe77732",
   "metadata": {},
   "outputs": [
    {
     "name": "stdout",
     "output_type": "stream",
     "text": [
      "distance_miles 异常值处理完成，小于等于0的值替换为平均值: 2586.72\n"
     ]
    }
   ],
   "source": [
    "mean_distance = df[df['distance_miles'] > 0]['distance_miles'].mean()\n",
    "# 推荐使用\n",
    "# mean_distance = df.loc[df['distance_miles'] > 0, 'distance_miles'].mean()\n",
    "\n",
    "df['distance_miles'] = df['distance_miles'].apply(lambda x: x if x > 0 else mean_distance)\n",
    "print(f\"distance_miles 异常值处理完成，小于等于0的值替换为平均值: {mean_distance:.2f}\")"
   ]
  },
  {
   "cell_type": "markdown",
   "id": "c87c49e3",
   "metadata": {},
   "source": [
    "3.  **计算 RFM 指标**：\n",
    "    为了评估客户价值，我们需要计算每个客户的 RFM (Recency, Frequency, Monetary) 指标。\n",
    "    *   **Recency (近度)**：Recency衡量的是客户最近一次飞行距离现在有多久\n",
    "        *   计算每个客户**距离最近一次飞行日期**的天数。以数据集中的最大飞行日期作为“当前日期”。\n",
    "    *   **Frequency (频度)**：\n",
    "        *   计算每个客户**总的飞行次数**。\n",
    "    *   **Monetary (价值)**：\n",
    "        *   计算每个客户**总的票价花费**。\n",
    "\n",
    "    请将这些 RFM 指标合并到一个新的 DataFrame 中，其中包含 `customer_id`, `Recency`, `Frequency`, `Monetary`。"
   ]
  },
  {
   "cell_type": "code",
   "execution_count": 61,
   "id": "a8e1ee2c",
   "metadata": {},
   "outputs": [
    {
     "name": "stdout",
     "output_type": "stream",
     "text": [
      "              R   F        M\n",
      "customer_id                 \n",
      "C_0001       40  11   9879.0\n",
      "C_0002       28   6   5815.0\n",
      "C_0003        1  12  10200.0\n",
      "C_0004       55   4   3119.0\n",
      "C_0005       24   9  10639.0\n",
      "...          ..  ..      ...\n",
      "C_0496       90   4   4774.0\n",
      "C_0497       50  15  12357.0\n",
      "C_0498       50  13  11225.0\n",
      "C_0499       10  14  12194.0\n",
      "C_0500       37  12  14271.0\n",
      "\n",
      "[500 rows x 3 columns]\n"
     ]
    }
   ],
   "source": [
    "current_date = df['flight_date'].max()\n",
    "\n",
    "def recency(data):\n",
    "\n",
    "    global current_date\n",
    "    max_date = data.max()\n",
    "    return (current_date - max_date).days\n",
    "\n",
    "\n",
    "# df.groupby('customer_id').agg({\n",
    "#     \"flight_date\": recency,\n",
    "#     \"flight_number\": \"count\",\n",
    "#     \"fare\": \"sum\"\n",
    "# })\n",
    "\n",
    "df_rfm = df.groupby('customer_id').agg(R=('flight_date', recency),\n",
    "                              F=('flight_number', 'count'),\n",
    "                              M=('fare', 'sum')\n",
    "                              )\n",
    "\n",
    "print(df_rfm)\n",
    "\n"
   ]
  },
  {
   "cell_type": "markdown",
   "id": "4374793b",
   "metadata": {},
   "source": [
    "4.  **客户分群**：\n",
    "    基于 RFM 指标，对客户进行简单的分群。\n",
    "    *   将 `Recency`, `Frequency`, `Monetary` 各自划分为 3 个等级 (1 到 3，等级越高代表表现越好)。\n",
    "        *   `Recency`: 值越小越好 (最近飞行)，因此等级划分规则为：最小 33% 设为 3，中间 33% 设为 2，最大 33% 设为 1。\n",
    "        *   `Frequency`: 值越大越好 (飞行次数多)，因此等级划分规则为：最小 33% 设为 1，中间 33% 设为 2，最大 33% 设为 3。\n",
    "        *   `Monetary`: 值越大越好 (花费金额高)，因此等级划分规则与 Frequency 相同。\n",
    "    *   创建一个新的列 `RFM_Score`，其值为 `Recency_Score` * 100 + `Frequency_Score` * 10 + `Monetary_Score`。\n",
    "    *   根据 `RFM_Score` 对客户进行分群，例如：\n",
    "        *   `RFM_Score` >= 323: \"高价值客户\"\n",
    "        *   `RFM_Score` >= 222 and `RFM_Score` < 323: \"中价值客户\"\n",
    "        *   `RFM_Score` < 222: \"低价值客户\"\n",
    "    *   统计各客户群体的数量。"
   ]
  },
  {
   "cell_type": "code",
   "execution_count": 63,
   "id": "a6c30b57",
   "metadata": {},
   "outputs": [
    {
     "name": "stdout",
     "output_type": "stream",
     "text": [
      "              R   F        M  R_score  F_score  M_score  RFM_Score\n",
      "customer_id                                                       \n",
      "C_0001       40  11   9879.0        2        2        2        222\n",
      "C_0002       28   6   5815.0        2        1        1        211\n",
      "C_0003        1  12  10200.0        3        3        2        332\n",
      "C_0004       55   4   3119.0        1        1        1        111\n",
      "C_0005       24   9  10639.0        2        2        2        222\n",
      "...          ..  ..      ...      ...      ...      ...        ...\n",
      "C_0496       90   4   4774.0        1        1        1        111\n",
      "C_0497       50  15  12357.0        1        3        3        133\n",
      "C_0498       50  13  11225.0        1        3        2        132\n",
      "C_0499       10  14  12194.0        3        3        3        333\n",
      "C_0500       37  12  14271.0        2        3        3        233\n",
      "\n",
      "[500 rows x 7 columns]\n"
     ]
    }
   ],
   "source": [
    "df_rfm['R_score'] = pd.qcut(df_rfm['R'], q=3, labels=[3, 2, 1], duplicates='drop').astype(int)\n",
    "\n",
    "df_rfm['F_score'] = pd.qcut(df_rfm['F'], q=3, labels=[1, 2, 3], duplicates='drop').astype(int)\n",
    "df_rfm['M_score'] = pd.qcut(df_rfm['M'], q=3, labels=[1, 2, 3], duplicates='drop').astype(int)\n",
    "\n",
    "df_rfm['RFM_Score'] = df_rfm['R_score'] * 100 + df_rfm['F_score'] * 10 + df_rfm['M_score']\n",
    "print(df_rfm)\n"
   ]
  },
  {
   "cell_type": "code",
   "execution_count": 66,
   "id": "f18a0a10",
   "metadata": {},
   "outputs": [
    {
     "name": "stdout",
     "output_type": "stream",
     "text": [
      "              R   F        M  R_score  F_score  M_score  RFM_Score User_Level\n",
      "customer_id                                                                  \n",
      "C_0001       40  11   9879.0        2        2        2        222      中价值客户\n",
      "C_0002       28   6   5815.0        2        1        1        211      低价值客户\n",
      "C_0003        1  12  10200.0        3        3        2        332      中价值客户\n",
      "C_0004       55   4   3119.0        1        1        1        111      低价值客户\n",
      "C_0005       24   9  10639.0        2        2        2        222      中价值客户\n",
      "...          ..  ..      ...      ...      ...      ...        ...        ...\n",
      "C_0496       90   4   4774.0        1        1        1        111      低价值客户\n",
      "C_0497       50  15  12357.0        1        3        3        133      低价值客户\n",
      "C_0498       50  13  11225.0        1        3        2        132      低价值客户\n",
      "C_0499       10  14  12194.0        3        3        3        333      高价值客户\n",
      "C_0500       37  12  14271.0        2        3        3        233      中价值客户\n",
      "\n",
      "[500 rows x 8 columns]\n"
     ]
    }
   ],
   "source": [
    "def uer_level(rfm_score):\n",
    "    if rfm_score >= 333:\n",
    "        return '高价值客户'\n",
    "    elif 222 <= rfm_score < 333:\n",
    "        return '中价值客户'\n",
    "    else:\n",
    "        return '低价值客户'\n",
    "    \n",
    "df_rfm['User_Level'] = df_rfm['RFM_Score'].apply(uer_level)\n",
    "print(df_rfm)"
   ]
  },
  {
   "cell_type": "markdown",
   "id": "757f7ecb",
   "metadata": {},
   "source": [
    "# 题目2：Word 文档自动化处理 - 项目报告模板填充"
   ]
  },
  {
   "cell_type": "markdown",
   "id": "5d97a166",
   "metadata": {},
   "source": [
    "### 题目描述："
   ]
  },
  {
   "cell_type": "markdown",
   "id": "7a38de02",
   "metadata": {},
   "source": [
    "你是一家大型咨询公司的实习数据分析师。\n",
    "\n",
    "公司有一份标准的项目报告模板（Project_Report_Template.docx），这份模板包含一些占位符，需要根据具体的项目信息进行替换。\n",
    "\n",
    "你的任务是编写一个 Python 脚本，读取这份模板，根据提供的项目数据，自动填充并生成一份新的、完整的项目报告。\n",
    "\n",
    "目标要求：\n",
    "- 读取模板并替换：\n",
    "    1. 读取 Project_Report_Template.docx。\n",
    "    2. 遍历文档中的所有段落（Paragraph）和表格（Table）单元格，查找并替换 placeholder_map 中定义的所有占位符。\n",
    "    3. 替换占位符：\n",
    "        - 若占位符出现在段落文本中，直接替换。\n",
    "        - 若占位符出现在表格单元格中，需要先获取单元格的文本，替换后再设置回单元格。\n",
    "    4. 保留格式：在替换文本时，要注意保留原段落或单元格的格式，包括字体、大小、加粗、斜体等。\n",
    "\n",
    "生成新文档：将填充完毕的报告保存为 Filled_Project_Report.docx。"
   ]
  },
  {
   "cell_type": "markdown",
   "id": "ee3e039f",
   "metadata": {},
   "source": [
    "模拟数据"
   ]
  },
  {
   "cell_type": "code",
   "execution_count": null,
   "id": "32000d71",
   "metadata": {},
   "outputs": [],
   "source": [
    "project_data = {\n",
    "    \"COMPANY_NAME\": \"ABC 数据咨询\",\n",
    "    \"PROJECT_Slogan\": \"数据驱动未来\", # 这是一个额外信息，需要您自行决定处理方式或忽略\n",
    "    \"PROJECT_TITLE\": \"电商客户行为分析报告\",\n",
    "    \"PROJECT_MANAGER\": \"张三\",\n",
    "    \"REPORT_DATE\": \"2023-10-26\",\n",
    "    \"CUSTOMER_NAME\": \"XYZ 电商平台\",\n",
    "}\n",
    "\n",
    "\n",
    "analysis_data = {\n",
    "    \"TOTAL_ORDERS\": 12586,\n",
    "    \"AVERAGE_ORDER_AMOUNT\": 345.78,\n",
    "    \"HIGH_VALUE_CUSTOMER_PERCENTAGE\": 25.3\n",
    "}\n",
    "\n",
    "recommendations_text = \"通过优化商品推荐算法和提升用户互动，可以进一步提高客户留存率和复购率。\"\n",
    "\n",
    "placeholder_map = {\n",
    "    \"[公司名称]\": project_data[\"COMPANY_NAME\"],\n",
    "    \"[PROJECT_NAME]\": project_data[\"PROJECT_TITLE\"],\n",
    "    \"[PROJECT_MANAGER]\": project_data[\"PROJECT_MANAGER\"],\n",
    "    \"[REPORT_DATE]\": project_data[\"REPORT_DATE\"],\n",
    "    \"[CUSTOMER_NAME]\": project_data[\"CUSTOMER_NAME\"],\n",
    "    \"[PROJECT_PURPOSE]\": \"深入理解客户购物习惯，识别高价值客户群体，并为精准营销提供数据支持\", # 这个占位符在模板中有，但未在project_data中\n",
    "    \"[TOTAL_ORDERS]\": analysis_data[\"TOTAL_ORDERS\"],\n",
    "    \"[AVERAGE_ORDER_AMOUNT]\": f\"{analysis_data['AVERAGE_ORDER_AMOUNT']:.2f} 元\", # 格式化输出\n",
    "    \"[HIGH_VALUE_CUSTOMER_PERCENTAGE]\": analysis_data[\"HIGH_VALUE_CUSTOMER_PERCENTAGE\"],\n",
    "    \"[RECOMMENDATIONS]\": recommendations_text\n",
    "}\n"
   ]
  },
  {
   "cell_type": "markdown",
   "id": "779f7565",
   "metadata": {},
   "source": [
    "读取 Project_Report_Template.docx"
   ]
  },
  {
   "cell_type": "code",
   "execution_count": 3,
   "id": "eaa91dc4",
   "metadata": {},
   "outputs": [],
   "source": [
    "from docx import Document"
   ]
  },
  {
   "cell_type": "code",
   "execution_count": 4,
   "id": "248db7f0",
   "metadata": {},
   "outputs": [],
   "source": [
    "doc = Document(r'docx\\Project_Report_Template.docx')"
   ]
  },
  {
   "cell_type": "markdown",
   "id": "5fb2885c",
   "metadata": {},
   "source": [
    "2. 遍历文档中的所有段落（Paragraph）和表格（Table）单元格，查找并替换 placeholder_map 中定义的所有占位符。\n",
    "3. 替换占位符：\n",
    "    - 若占位符出现在段落文本中，直接替换。\n",
    "    - 若占位符出现在表格单元格中，需要先获取单元格的文本，替换后再设置回单元格。\n",
    "4. 保留格式：在替换文本时，要注意保留原段落或单元格的格式，包括字体、大小、加粗、斜体等。"
   ]
  },
  {
   "cell_type": "code",
   "execution_count": null,
   "id": "80133588",
   "metadata": {},
   "outputs": [],
   "source": [
    "for para in doc.paragraphs:\n",
    "    for run in para.runs:\n",
    "        if ''"
   ]
  }
 ],
 "metadata": {
  "kernelspec": {
   "display_name": "ds-learn (3.13.3)",
   "language": "python",
   "name": "python3"
  },
  "language_info": {
   "codemirror_mode": {
    "name": "ipython",
    "version": 3
   },
   "file_extension": ".py",
   "mimetype": "text/x-python",
   "name": "python",
   "nbconvert_exporter": "python",
   "pygments_lexer": "ipython3",
   "version": "3.13.3"
  }
 },
 "nbformat": 4,
 "nbformat_minor": 5
}
